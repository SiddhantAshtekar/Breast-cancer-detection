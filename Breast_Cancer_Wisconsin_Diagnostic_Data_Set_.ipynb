{
  "nbformat": 4,
  "nbformat_minor": 0,
  "metadata": {
    "colab": {
      "name": "Breast-Cancer-Wisconsin-Diagnostic-Data-Set .ipynb",
      "private_outputs": true,
      "provenance": [],
      "collapsed_sections": []
    },
    "kernelspec": {
      "name": "python3",
      "display_name": "Python 3"
    },
    "language_info": {
      "name": "python"
    },
    "accelerator": "GPU"
  },
  "cells": [
    {
      "cell_type": "markdown",
      "metadata": {
        "id": "nHeRUfnu1oQI"
      },
      "source": [
        "#**Detection Of Breast cancer using machine learning**"
      ]
    },
    {
      "cell_type": "markdown",
      "metadata": {
        "id": "6pokn1PE1yjs"
      },
      "source": [
        "##Problem Statement"
      ]
    },
    {
      "cell_type": "markdown",
      "metadata": {
        "id": "95hdr75i1D5s"
      },
      "source": [
        "Given a list of features (i.e., feature vectors) calculated from a digitized image of the FNA of a breast mass from a patient, the problem is how to determine whether or not the patient has breast cancer."
      ]
    },
    {
      "cell_type": "markdown",
      "metadata": {
        "id": "CmWKlYX22FsI"
      },
      "source": [
        "##Import Libraries"
      ]
    },
    {
      "cell_type": "code",
      "metadata": {
        "id": "iYZ9ie9x9lm_"
      },
      "source": [
        "import numpy as np\n",
        "import matplotlib.pyplot as plt\n",
        "import pandas as pd\n",
        "\n",
        "import seaborn as sns\n",
        "from scipy import stats\n",
        "from scipy.stats import norm, skew\n",
        "from scipy.special import boxcox1p\n",
        "\n",
        "pd.set_option('display.max_columns', None)\n",
        "pd.set_option('display.max_rows', None)\n",
        "\n",
        "from sklearn.model_selection import train_test_split\n",
        "from sklearn.preprocessing import RobustScaler,StandardScaler\n",
        "from sklearn.model_selection import KFold, cross_val_score, ShuffleSplit,cross_validate\n",
        "from sklearn.pipeline import make_pipeline\n",
        "from sklearn.metrics import classification_report,confusion_matrix\n",
        "from sklearn.svm import SVC\n",
        "\n",
        "from xgboost import XGBClassifier\n",
        "from sklearn.ensemble import RandomForestClassifier, GradientBoostingClassifier,AdaBoostClassifier,ExtraTreesClassifier,BaggingClassifier,VotingClassifier\n",
        "from sklearn.naive_bayes import GaussianNB \n",
        "\n",
        "import warnings\n",
        "def ignore_warn(*args, **kwargs):\n",
        "    pass\n",
        "warnings.warn = ignore_warn"
      ],
      "execution_count": null,
      "outputs": []
    },
    {
      "cell_type": "code",
      "metadata": {
        "id": "R3Vksbuu_P2E"
      },
      "source": [
        "from google.colab import drive\n",
        "drive.mount('/content/drive')"
      ],
      "execution_count": null,
      "outputs": []
    },
    {
      "cell_type": "markdown",
      "metadata": {
        "id": "3P4H1swU2LUC"
      },
      "source": [
        "##Import Dataset"
      ]
    },
    {
      "cell_type": "code",
      "metadata": {
        "id": "BKe2uMCf97sa"
      },
      "source": [
        "\n",
        "df = pd.read_csv('/content/drive/MyDrive/data.csv' ,error_bad_lines=False)\n",
        "df['diagnosis'] = df['diagnosis'].apply(lambda x : 1 if x == 'M' else 0)\n",
        "df.drop(['Unnamed: 32','id'],axis = 1,inplace = True)\n",
        "\n",
        "df.head()"
      ],
      "execution_count": null,
      "outputs": []
    },
    {
      "cell_type": "markdown",
      "metadata": {
        "id": "uBEi3fAX2N-w"
      },
      "source": [
        "##Getting information about featurese"
      ]
    },
    {
      "cell_type": "code",
      "metadata": {
        "id": "36ZOapUw-ysX"
      },
      "source": [
        "df.info()"
      ],
      "execution_count": null,
      "outputs": []
    },
    {
      "cell_type": "code",
      "metadata": {
        "id": "P5bf_PGaAtXm"
      },
      "source": [
        "df.isnull().sum()"
      ],
      "execution_count": null,
      "outputs": []
    },
    {
      "cell_type": "code",
      "metadata": {
        "id": "AvPfKRMJAuIa"
      },
      "source": [
        "df.describe()"
      ],
      "execution_count": null,
      "outputs": []
    },
    {
      "cell_type": "markdown",
      "metadata": {
        "id": "GS-8abUl2T7h"
      },
      "source": [
        "##Feature selection"
      ]
    },
    {
      "cell_type": "code",
      "metadata": {
        "id": "rcRlfuNnA07k"
      },
      "source": [
        "corrmat = df.corr()\n",
        "top_corr_features = corrmat.index[abs(corrmat[\"diagnosis\"])>0.7]\n",
        "plt.figure(figsize=(10,10))\n",
        "g = sns.heatmap(df[top_corr_features].corr(),annot=True,cmap=\"RdYlGn\")"
      ],
      "execution_count": null,
      "outputs": []
    },
    {
      "cell_type": "code",
      "metadata": {
        "id": "1bTHWTRiA4wx"
      },
      "source": [
        "correlated_col_with_dignosis = ['radius_mean','perimeter_mean','area_mean','concave points_mean','radius_worst',\n",
        "                                'perimeter_worst','area_worst','concave points_worst']\n",
        "\n",
        "for col in correlated_col_with_dignosis:\n",
        "    fig = plt.figure()\n",
        "    plt.hist(df[df['diagnosis'] == 0][col],bins=30,fc = (1,0,0,0.5),label='B')\n",
        "    plt.hist(df[df['diagnosis'] == 1][col],bins=30,fc = (0,1,0,0.5),label = 'M')\n",
        "    plt.legend()\n",
        "    plt.xlabel(col)\n",
        "    plt.ylabel(\"Frequency\")\n",
        "    plt.title(col)\n",
        "    plt.show()"
      ],
      "execution_count": null,
      "outputs": []
    },
    {
      "cell_type": "code",
      "metadata": {
        "id": "ERcoiMRDA8n9"
      },
      "source": [
        "del_bin = []\n",
        "for i in corrmat.columns:\n",
        "    for j in corrmat.index:\n",
        "        if i!= 'diagnosis' and j!='diagnosis':\n",
        "            if corrmat[j][i] >= 0.90 and corrmat[j][i] < 1.0:\n",
        "                if corrmat['diagnosis'][i] >= corrmat['diagnosis'][j]:\n",
        "                    del_bin.append(j)\n",
        "                else:\n",
        "                    del_bin.append(i)\n",
        "                    \n",
        "del_bin = list(set(del_bin))"
      ],
      "execution_count": null,
      "outputs": []
    },
    {
      "cell_type": "code",
      "metadata": {
        "id": "J0CcVjDnA_h8"
      },
      "source": [
        "df.drop(del_bin,axis = 1,inplace = True)"
      ],
      "execution_count": null,
      "outputs": []
    },
    {
      "cell_type": "code",
      "metadata": {
        "id": "UtAV6OHjBCYy"
      },
      "source": [
        "corrmat1 = df.corr()\n",
        "top_corr_features = corrmat1.index[abs(corrmat1[\"diagnosis\"])>0.5]\n",
        "plt.figure(figsize=(10,10))\n",
        "g = sns.heatmap(df[top_corr_features].corr(),annot=True,cmap=\"RdYlGn\")"
      ],
      "execution_count": null,
      "outputs": []
    },
    {
      "cell_type": "code",
      "metadata": {
        "id": "b0ze_dCDBGeb"
      },
      "source": [
        "correlated_col_with_dignosis_ = ['concave points_worst','perimeter_worst']\n",
        "for col in correlated_col_with_dignosis_:\n",
        "    f1 = plt.figure()\n",
        "    sns.boxplot(df['diagnosis'],df[col])"
      ],
      "execution_count": null,
      "outputs": []
    },
    {
      "cell_type": "code",
      "metadata": {
        "id": "iT3XNo8XBLa5"
      },
      "source": [
        "df.drop(df[df['diagnosis'] == 0][(df['perimeter_worst']>125) | (df['perimeter_worst']<53)].index,inplace = True)\n",
        "df.drop(df[df['diagnosis'] == 1][df['perimeter_worst']>215].index,inplace = True)\n",
        "df.drop(df[df['diagnosis'] == 0][df['concave points_worst']>0.17].index,inplace = True)\n",
        "df.drop(df[df['diagnosis'] == 1][df['concave points_worst']<0.07].index,inplace = True)"
      ],
      "execution_count": null,
      "outputs": []
    },
    {
      "cell_type": "code",
      "metadata": {
        "id": "N5l3Ii3BBOYU"
      },
      "source": [
        "for col in correlated_col_with_dignosis_:\n",
        "    f1 = plt.figure()\n",
        "    sns.boxplot(df['diagnosis'],df[col])"
      ],
      "execution_count": null,
      "outputs": []
    },
    {
      "cell_type": "markdown",
      "metadata": {
        "id": "SljoYrdI2ubX"
      },
      "source": [
        "##Feature scaling"
      ]
    },
    {
      "cell_type": "code",
      "metadata": {
        "id": "eqFAD3vRBR0L"
      },
      "source": [
        "x = df.drop('diagnosis',axis = 1)\n",
        "y = df['diagnosis']\n",
        "\n",
        "sc = StandardScaler()\n",
        "x = pd.DataFrame(sc.fit_transform(x),columns = x.columns)\n",
        "\n",
        "x_train,x_test,y_train,y_test = train_test_split(x,y)"
      ],
      "execution_count": null,
      "outputs": []
    },
    {
      "cell_type": "markdown",
      "metadata": {
        "id": "PGeRTCcR2pyK"
      },
      "source": [
        "##Validation"
      ]
    },
    {
      "cell_type": "code",
      "metadata": {
        "id": "Awd61atZBVNX"
      },
      "source": [
        "\n",
        "ss = ShuffleSplit(n_splits = 3, test_size = .3, train_size = .7, random_state = 0)\n",
        "\n",
        "def acc(model):\n",
        "    cvs = (cross_validate(model,x.values,y.values,cv = ss,return_train_score = True))\n",
        "    return cvs['train_score'].mean(),cvs['test_score'].mean()"
      ],
      "execution_count": null,
      "outputs": []
    },
    {
      "cell_type": "code",
      "metadata": {
        "id": "9540QgFCBY6d"
      },
      "source": [
        "cf1 = XGBClassifier()\n",
        "cf2 = AdaBoostClassifier()\n",
        "cf3 = GradientBoostingClassifier()\n",
        "cf4 = RandomForestClassifier()\n",
        "cf5 = ExtraTreesClassifier()\n",
        "cf6 = BaggingClassifier()\n",
        "cf=[cf1,cf2,cf3,cf4,cf5,cf6]\n",
        "clf = [('xgb',cf1),('ada',cf2),('gbm',cf3),('rf',cf4),('et',cf5),('bbc',cf6)]"
      ],
      "execution_count": null,
      "outputs": []
    },
    {
      "cell_type": "code",
      "metadata": {
        "id": "EqjJKi8eBc2V"
      },
      "source": [
        "ens_hard = VotingClassifier(estimators=clf,voting='hard')\n",
        "ens_soft = VotingClassifier(estimators=clf,voting='soft')\n",
        "ens = VotingClassifier(estimators = [('ensh',ens_hard),('enss',ens_soft)],voting = 'hard')"
      ],
      "execution_count": null,
      "outputs": []
    },
    {
      "cell_type": "code",
      "metadata": {
        "id": "OmsX6TzkL3fN"
      },
      "source": [
        "ax = sns.countplot(y,label=\"Count\")      \n",
        "B, M = y.value_counts()\n",
        "print('Number of Benign: ',B)\n",
        "print('Number of Malignant : ',M)"
      ],
      "execution_count": null,
      "outputs": []
    },
    {
      "cell_type": "markdown",
      "metadata": {
        "id": "o23vHHuw24bv"
      },
      "source": [
        "##Traing model"
      ]
    },
    {
      "cell_type": "code",
      "metadata": {
        "id": "hcQweJpwBhXQ"
      },
      "source": [
        "cf.append(ens)\n",
        "for i in cf:\n",
        "  i.fit(x_train.values,y_train.values)\n",
        "  print(i,acc(i))\n"
      ],
      "execution_count": null,
      "outputs": []
    },
    {
      "cell_type": "code",
      "metadata": {
        "id": "PW4L4t9hBnaI"
      },
      "source": [
        "confusion_matrix(y_test,ens.predict(x_test.values))"
      ],
      "execution_count": null,
      "outputs": []
    },
    {
      "cell_type": "code",
      "metadata": {
        "id": "zyuDuuF6BtoK"
      },
      "source": [
        "print(classification_report(y_test,ens.predict(x_test.values)))"
      ],
      "execution_count": null,
      "outputs": []
    },
    {
      "cell_type": "code",
      "metadata": {
        "id": "8HaArpFrBvw-"
      },
      "source": [
        "acc(ens)"
      ],
      "execution_count": null,
      "outputs": []
    },
    {
      "cell_type": "markdown",
      "metadata": {
        "id": "UteKJfne2DoD"
      },
      "source": [
        ""
      ]
    }
  ]
}